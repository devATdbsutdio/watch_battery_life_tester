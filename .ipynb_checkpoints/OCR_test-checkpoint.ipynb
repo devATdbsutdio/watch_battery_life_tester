{
 "cells": [
  {
   "cell_type": "code",
   "execution_count": 19,
   "id": "943babe2-56a8-4049-9d82-f17fa3771512",
   "metadata": {},
   "outputs": [],
   "source": [
    "# import the necessary packages\n",
    "import pytesseract\n",
    "from PIL import Image\n",
    "import cv2\n",
    "import re"
   ]
  },
  {
   "cell_type": "code",
   "execution_count": 20,
   "id": "cea6a2d0-6d93-49d9-b389-1c775369a576",
   "metadata": {},
   "outputs": [],
   "source": [
    "# image = cv2.imread(\"test.png\")\n",
    "img = cv2.imread('watch_face.png',cv2.IMREAD_COLOR) #Open the image from which charectors has to be recognized\n",
    "gray = cv2.cvtColor(img, cv2.COLOR_BGR2GRAY) #convert to grey to reduce detials\n",
    "gray = cv2.bilateralFilter(gray, 11, 17, 17) #Blur to reduce noise\n",
    "\n",
    "# rgb = cv2.cvtColor(image, cv2.COLOR_BGR2RGB)"
   ]
  },
  {
   "cell_type": "code",
   "execution_count": 21,
   "id": "6fdf6ca2-3111-4f82-9077-33563d59963d",
   "metadata": {},
   "outputs": [],
   "source": [
    "def replace_chars(text):\n",
    "    \"\"\"\n",
    "    Replaces all characters instead of numbers from 'text'.\n",
    "    \n",
    "    :param text: Text string to be filtered\n",
    "    :return: Resulting number\n",
    "    \"\"\"\n",
    "    list_of_numbers = re.findall(r'\\d+', text)\n",
    "    result_number = ''.join(list_of_numbers)\n",
    "    return result_number"
   ]
  },
  {
   "cell_type": "code",
   "execution_count": 22,
   "id": "87bf4f9d-993b-4beb-ad93-b82c83217148",
   "metadata": {},
   "outputs": [
    {
     "name": "stdout",
     "output_type": "stream",
     "text": [
      "\n"
     ]
    }
   ],
   "source": [
    "# text = pytesseract.image_to_string(gray, config='')\n",
    "text = pytesseract.image_to_string(gray, config='-l eng --oem 3 --psm 12')\n",
    "\n",
    "print(replace_chars(text))"
   ]
  },
  {
   "cell_type": "code",
   "execution_count": null,
   "id": "926e31bd-f095-4714-841a-39af9e49047b",
   "metadata": {},
   "outputs": [],
   "source": []
  }
 ],
 "metadata": {
  "kernelspec": {
   "display_name": "Python 3 (ipykernel)",
   "language": "python",
   "name": "python3"
  },
  "language_info": {
   "codemirror_mode": {
    "name": "ipython",
    "version": 3
   },
   "file_extension": ".py",
   "mimetype": "text/x-python",
   "name": "python",
   "nbconvert_exporter": "python",
   "pygments_lexer": "ipython3",
   "version": "3.7.3"
  }
 },
 "nbformat": 4,
 "nbformat_minor": 5
}
