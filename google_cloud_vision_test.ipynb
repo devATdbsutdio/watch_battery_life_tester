{
 "cells": [
  {
   "cell_type": "code",
   "execution_count": 23,
   "id": "a0c24398-3c83-453c-9348-eb71b7f1cec8",
   "metadata": {},
   "outputs": [],
   "source": [
    "# import the necessary packages\n"
   ]
  },
  {
   "cell_type": "code",
   "execution_count": 25,
   "id": "a6a938ab-79d6-40fd-a11e-e630add2e531",
   "metadata": {},
   "outputs": [],
   "source": [
    "# create the client interface to access the Google Cloud Vision API\n",
    "credentials = service_account.Credentials.from_service_account_file(filename=\"ocrtest-348215-181db3e230e2.json\", scopes=[\"https://www.googleapis.com/auth/cloud-platform\"])\n",
    "client = vision.ImageAnnotatorClient(credentials=credentials)"
   ]
  },
  {
   "cell_type": "code",
   "execution_count": 26,
   "id": "32a31770-9a53-44ae-b7ba-9acef43655d9",
   "metadata": {},
   "outputs": [
    {
     "name": "stdout",
     "output_type": "stream",
     "text": [
      "[INFO] making request to Google Cloud Vision API...\n"
     ]
    }
   ],
   "source": [
    "with io.open(\"watch_face.png\", \"rb\") as f:\n",
    "\tbyteImage = f.read()\n",
    "\n",
    "# create an image object from the binary file and then make a request\n",
    "# to the Google Cloud Vision API to OCR the input image\n",
    "print(\"[INFO] making request to Google Cloud Vision API...\")\n",
    "image = vision.Image(content=byteImage)\n",
    "response = client.text_detection(image=image)\n",
    "\n",
    "# check to see if there was an error when making a request to the API\n",
    "if response.error.message:\n",
    "\traise Exception(\n",
    "\t\t\"{}\\nFor more info on errors, check:\\n\"\n",
    "\t\t\"https://cloud.google.com/apis/design/errors\".format(\n",
    "\t\t\tresponse.error.message))"
   ]
  },
  {
   "cell_type": "code",
   "execution_count": 27,
   "id": "c15eca5f-cfdf-43c3-b5ab-66751bced052",
   "metadata": {},
   "outputs": [
    {
     "name": "stdout",
     "output_type": "stream",
     "text": [
      "20\n"
     ]
    }
   ],
   "source": [
    "# read the image again, this time in OpenCV format and make a copy of\n",
    "# the input image for final output\n",
    "# image = cv2.imread((\"watch_face.png\")\n",
    "# final = image.copy()\n",
    "                   \n",
    "# loop over the Google Cloud Vision API OCR results\n",
    "for text in response.text_annotations[1::]:\n",
    "                   ocr = text.description\n",
    "                   print(ocr)"
   ]
  }
 ],
 "metadata": {
  "kernelspec": {
   "display_name": "Python 3 (ipykernel)",
   "language": "python",
   "name": "python3"
  },
  "language_info": {
   "codemirror_mode": {
    "name": "ipython",
    "version": 3
   },
   "file_extension": ".py",
   "mimetype": "text/x-python",
   "name": "python",
   "nbconvert_exporter": "python",
   "pygments_lexer": "ipython3",
   "version": "3.7.3"
  }
 },
 "nbformat": 4,
 "nbformat_minor": 5
}
